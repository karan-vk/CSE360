{
 "cells": [
  {
   "cell_type": "code",
   "execution_count": 1,
   "metadata": {},
   "outputs": [],
   "source": [
    "from keras.preprocessing.image import ImageDataGenerator\n",
    "import keras\n",
    "from keras.applications.vgg16 import VGG16\n",
    "from keras.layers import Flatten, Dense, Dropout,Input,MaxPooling2D,Conv2D,concatenate\n",
    "import matplotlib.pyplot as plt\n",
    "import tensorflow_datasets as tfds\n",
    "import tensorflow as tf\n",
    "from tensorflow.keras.applications import InceptionV3"
   ]
  },
  {
   "cell_type": "code",
   "execution_count": 2,
   "metadata": {},
   "outputs": [],
   "source": [
    "# function for creating a naive inception block\n",
    "# function for creating a projected inception module\n",
    "def inception_module(layer_in, f1, f2_in, f2_out, f3_in, f3_out, f4_out):\n",
    "  # 1x1 conv\n",
    "  conv1 = Conv2D(f1, (1,1), padding='same', activation='relu')(layer_in)\n",
    "  # 3x3 conv\n",
    "  conv3 = Conv2D(f2_in, (1,1), padding='same', activation='relu')(layer_in)\n",
    "  conv3 = Conv2D(f2_out, (3,3), padding='same', activation='relu')(conv3)\n",
    "  # 5x5 conv\n",
    "  conv5 = Conv2D(f3_in, (1,1), padding='same', activation='relu')(layer_in)\n",
    "  conv5 = Conv2D(f3_out, (5,5), padding='same', activation='relu')(conv5)\n",
    "  # 3x3 max pooling\n",
    "  pool = MaxPooling2D((3,3), strides=(1,1), padding='same')(layer_in)\n",
    "  pool = Conv2D(f4_out, (1,1), padding='same', activation='relu')(pool)\n",
    "  # concatenate filters, assumes filters/channels last\n",
    "  layer_out = concatenate([conv1, conv3, conv5, pool], axis=-1)\n",
    "  return layer_out"
   ]
  },
  {
   "cell_type": "code",
   "execution_count": 3,
   "metadata": {},
   "outputs": [],
   "source": [
    "input = Input(shape=(224,224,3))\n",
    "x = Conv2D(64,7,strides=2,padding=\"same\",activation=\"relu\")(input)\n",
    "x = MaxPooling2D(3,strides=2,padding=\"same\")(x)\n",
    "x = Conv2D(64,1,activation=\"relu\")(x)\n",
    "x = Conv2D(192,3,padding=\"same\",activation=\"relu\")(x)\n",
    "x = MaxPooling2D(3,strides=2,padding=\"same\")(x)\n",
    "x = inception_module(x,64,96,128,16,32,32)"
   ]
  },
  {
   "cell_type": "code",
   "execution_count": 4,
   "metadata": {},
   "outputs": [],
   "source": [
    "classNames = ['cat', 'dog']\n",
    "split = ['train[:70%]', 'train[70%:]']\n",
    " \n",
    "trainDataset, testDataset = tfds.load(name='cats_vs_dogs', split=split, as_supervised=True)"
   ]
  },
  {
   "cell_type": "code",
   "execution_count": 5,
   "metadata": {},
   "outputs": [
    {
     "data": {
      "image/png": "[encoded data removed]",
      "text/plain": [
       "<Figure size 432x288 with 8 Axes>"
      ]
     },
     "metadata": {
      "needs_background": "light"
     },
     "output_type": "display_data"
    },
    {
     "data": {
      "text/plain": [
       "<Figure size 7200x7200 with 0 Axes>"
      ]
     },
     "metadata": {},
     "output_type": "display_data"
    }
   ],
   "source": [
    "i = 0\n",
    "fig, ax = plt.subplots(1, 8)\n",
    "for image, label in testDataset.take(8):\n",
    "    ax[i].axis('off')\n",
    "    ax[i].set_title(classNames[label])\n",
    "    ax[i].imshow(image)\n",
    "    i += 1\n",
    "plt.figure(figsize=(100,100))\n",
    " \n",
    "plt.show()"
   ]
  },
  {
   "cell_type": "code",
   "execution_count": 6,
   "metadata": {},
   "outputs": [],
   "source": [
    "def preprocess(img, label):\n",
    "    return tf.image.resize(img, [HEIGHT, WIDTH]) / 255, label"
   ]
  },
  {
   "cell_type": "code",
   "execution_count": 7,
   "metadata": {},
   "outputs": [],
   "source": [
    "HEIGHT = 200\n",
    "WIDTH = 200\n",
    "split = ['train[:70%]', 'train[70%:]']\n",
    " \n",
    "trainDataset, testDataset = tfds.load(name='cats_vs_dogs', split=split, as_supervised=True)\n",
    " \n",
    "trainDataset = trainDataset.map(preprocess).batch(32)\n",
    "testDataset = testDataset.map(preprocess).batch(32)"
   ]
  },
  {
   "cell_type": "code",
   "execution_count": null,
   "metadata": {},
   "outputs": [],
   "source": []
  },
  {
   "cell_type": "code",
   "execution_count": 8,
   "metadata": {},
   "outputs": [],
   "source": [
    "base_model = InceptionV3(input_shape=(200,200,3),include_top=False)\n",
    "base_model.trainable = False"
   ]
  },
  {
   "cell_type": "code",
   "execution_count": 9,
   "metadata": {},
   "outputs": [],
   "source": [
    "flatten_layer = tf.keras.layers.Flatten()#(base_model.output)\n",
    "dense_layer_1 = tf.keras.layers.Dense(512, activation='relu')\n",
    "dense_layer_2 = tf.keras.layers.Dense(128, activation='relu')\n",
    "dense_layer_3 = tf.keras.layers.Dense(64, activation='relu')\n",
    "dense_layer_4 = tf.keras.layers.Dense(32, activation='relu')\n",
    "dense_layer_5 = tf.keras.layers.Dense(16, activation='relu')\n",
    "prediction_layer = tf.keras.layers.Dense(1, activation='sigmoid')\n",
    "model = tf.keras.models.Sequential([\n",
    "    base_model,\n",
    "    flatten_layer,\n",
    "    dense_layer_1,\n",
    "    dense_layer_2,\n",
    "    dense_layer_3,\n",
    "    dense_layer_4,\n",
    "    dense_layer_5,\n",
    "    prediction_layer\n",
    "])"
   ]
  },
  {
   "cell_type": "code",
   "execution_count": 10,
   "metadata": {},
   "outputs": [
    {
     "name": "stdout",
     "output_type": "stream",
     "text": [
      "Model: \"sequential\"\n",
      "_________________________________________________________________\n",
      " Layer (type)                Output Shape              Param #   \n",
      "=================================================================\n",
      " inception_v3 (Functional)   (None, 4, 4, 2048)        21802784  \n",
      "                                                                 \n",
      " flatten (Flatten)           (None, 32768)             0         \n",
      "                                                                 \n",
      " dense (Dense)               (None, 512)               16777728  \n",
      "                                                                 \n",
      " dense_1 (Dense)             (None, 128)               65664     \n",
      "                                                                 \n",
      " dense_2 (Dense)             (None, 64)                8256      \n",
      "                                                                 \n",
      " dense_3 (Dense)             (None, 32)                2080      \n",
      "                                                                 \n",
      " dense_4 (Dense)             (None, 16)                528       \n",
      "                                                                 \n",
      " dense_5 (Dense)             (None, 1)                 17        \n",
      "                                                                 \n",
      "=================================================================\n",
      "Total params: 38,657,057\n",
      "Trainable params: 16,854,273\n",
      "Non-trainable params: 21,802,784\n",
      "_________________________________________________________________\n"
     ]
    }
   ],
   "source": [
    "model.summary()"
   ]
  },
  {
   "cell_type": "code",
   "execution_count": 11,
   "metadata": {},
   "outputs": [],
   "source": [
    "model.compile(optimizer=tf.keras.optimizers.Adam(learning_rate=0.01),loss=tf.keras.losses.BinaryCrossentropy(from_logits=True),metrics=[\"accuracy\"])"
   ]
  },
  {
   "cell_type": "code",
   "execution_count": 12,
   "metadata": {},
   "outputs": [],
   "source": [
    "callback = tf.keras.callbacks.EarlyStopping(monitor='val_accuracy', patience=1,mode=\"auto\")"
   ]
  },
  {
   "cell_type": "code",
   "execution_count": 13,
   "metadata": {},
   "outputs": [],
   "source": [
    "%load_ext tensorboard"
   ]
  },
  {
   "cell_type": "code",
   "execution_count": 14,
   "metadata": {},
   "outputs": [],
   "source": [
    "tensorboard_callback = tf.keras.callbacks.TensorBoard(histogram_freq=1)"
   ]
  },
  {
   "cell_type": "code",
   "execution_count": 18,
   "metadata": {},
   "outputs": [
    {
     "name": "stdout",
     "output_type": "stream",
     "text": [
      "Epoch 1/3\n",
      "509/509 [==============================] - 45s 89ms/step - loss: 0.0512 - accuracy: 0.9838 - val_loss: 0.0441 - val_accuracy: 0.9832\n",
      "Epoch 2/3\n",
      "509/509 [==============================] - 45s 87ms/step - loss: 0.0318 - accuracy: 0.9886 - val_loss: 0.0508 - val_accuracy: 0.9834\n",
      "Epoch 3/3\n",
      "509/509 [==============================] - 45s 89ms/step - loss: 0.0285 - accuracy: 0.9899 - val_loss: 0.0550 - val_accuracy: 0.9822\n"
     ]
    }
   ],
   "source": [
    "trainHistory = model.fit(trainDataset, epochs=3, validation_data=testDataset,callbacks=[tensorboard_callback])\n",
    " \n"
   ]
  },
  {
   "cell_type": "code",
   "execution_count": 19,
   "metadata": {},
   "outputs": [
    {
     "data": {
      "image/png": "[encoded data removed]",
      "text/plain": [
       "<Figure size 432x288 with 1 Axes>"
      ]
     },
     "metadata": {
      "needs_background": "light"
     },
     "output_type": "display_data"
    },
    {
     "name": "stdout",
     "output_type": "stream",
     "text": [
      "219/219 [==============================] - 12s 52ms/step - loss: 0.0550 - accuracy: 0.9822\n",
      "0.055013108998537064\n",
      "0.982232391834259\n"
     ]
    }
   ],
   "source": [
    "plt.plot(trainHistory.history['accuracy'])\n",
    "plt.plot(trainHistory.history['val_accuracy'])\n",
    "plt.ylabel('Accuracy')\n",
    "plt.xlabel('Epoch')\n",
    "plt.legend(['Training', 'Validation'])\n",
    "plt.grid()\n",
    "plt.show()\n",
    " \n",
    "(loss, accuracy) = model.evaluate(testDataset)\n",
    "print(loss)\n",
    "print(accuracy)\n",
    " \n",
    "model.save('model.h5')"
   ]
  },
  {
   "cell_type": "code",
   "execution_count": 22,
   "metadata": {},
   "outputs": [],
   "source": [
    "preds = model.predict(testDataset)"
   ]
  },
  {
   "cell_type": "code",
   "execution_count": 25,
   "metadata": {},
   "outputs": [],
   "source": [
    "import seaborn as sns\n",
    "import numpy as np"
   ]
  },
  {
   "cell_type": "code",
   "execution_count": 35,
   "metadata": {},
   "outputs": [],
   "source": [
    "y = np.concatenate([y for _, y in testDataset], axis=0)"
   ]
  },
  {
   "cell_type": "code",
   "execution_count": 37,
   "metadata": {},
   "outputs": [],
   "source": [
    "conf_matrix = tf.math.confusion_matrix(y,np.where(preds > 0.5, 1, 0))"
   ]
  },
  {
   "cell_type": "code",
   "execution_count": null,
   "metadata": {},
   "outputs": [],
   "source": []
  }
 ],
 "metadata": {
  "interpreter": {
   "hash": "5b1fd10e16ff2d85f3c9ec31ccaafcca0a928c3ef54d153900042b2b2c56fc4f"
  },
  "kernelspec": {
   "display_name": "Python 3.9.5 ('base')",
   "language": "python",
   "name": "python3"
  },
  "language_info": {
   "codemirror_mode": {
    "name": "ipython",
    "version": 3
   },
   "file_extension": ".py",
   "mimetype": "text/x-python",
   "name": "python",
   "nbconvert_exporter": "python",
   "pygments_lexer": "ipython3",
   "version": "3.9.5"
  },
  "orig_nbformat": 4
 },
 "nbformat": 4,
 "nbformat_minor": 2
}
